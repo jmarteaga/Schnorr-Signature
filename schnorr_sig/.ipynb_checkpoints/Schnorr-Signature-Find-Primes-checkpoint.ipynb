{
 "cells": [
  {
   "cell_type": "code",
   "execution_count": 62,
   "metadata": {},
   "outputs": [],
   "source": [
    "import hashlib\n",
    "import sympy\n",
    "import os"
   ]
  },
  {
   "cell_type": "code",
   "execution_count": 63,
   "metadata": {},
   "outputs": [],
   "source": [
    "#This is the message that will be signed.\n",
    "M = 'This is our message to be encrypted'\n",
    "\n",
    "#Define the number of bits for prime number size\n",
    "b = 8\n",
    "\n",
    "#Define the number of times to try and find your primes.  Generally leave this alone.\n",
    "tries = 1000"
   ]
  },
  {
   "cell_type": "code",
   "execution_count": 64,
   "metadata": {},
   "outputs": [],
   "source": [
    "def find_a_prime(b):\n",
    "    \"find a prime p of the given number of bits. this is used to find your primes in find_primes_p_q\"\n",
    "        \n",
    "    upper_limit = (2**b) - 1\n",
    "    lower_limit = (2**(b-1))\n",
    "        \n",
    "    p = sympy.randprime(lower_limit,upper_limit)\n",
    "    return p\n",
    "    \n",
    "def find_primes_p_q(b, max_tries):\n",
    "    \"given a number of bits, find p and q, such that p is of bit size, p and q are both prime, and p = 2q + 1\"\n",
    "        \n",
    "    tries = 0\n",
    "    found = False\n",
    "        \n",
    "    while not found:\n",
    "        q = find_a_prime(b-1)\n",
    "        p = (2 * q) + 1\n",
    "            \n",
    "        if sympy.isprime(p):\n",
    "            found = True\n",
    "            break\n",
    "            \n",
    "        tries += 1\n",
    "            \n",
    "        if tries > max_tries:\n",
    "            print(\"maximum tries without finding a p an q\")\n",
    "            return (1, 1)\n",
    "            \n",
    "    return (p, q)"
   ]
  },
  {
   "cell_type": "code",
   "execution_count": 65,
   "metadata": {},
   "outputs": [],
   "source": [
    "(p,q) = find_primes_p_q(b,tries)"
   ]
  },
  {
   "cell_type": "code",
   "execution_count": 66,
   "metadata": {},
   "outputs": [],
   "source": [
    "def find_generator(p, q):\n",
    "    \"given p and q where p = 2q + 1, start with 2 and find the first generator (generator size does not matter, smallest is best)\"\n",
    "\n",
    "    g = 2\n",
    "    found = False\n",
    "\n",
    "    while not found:\n",
    "\n",
    "        if g == (p - 1):\n",
    "            break\n",
    "\n",
    "        if pow(g, q, p) != 1:\n",
    "            found = True\n",
    "            return g\n",
    "\n",
    "        g += 1"
   ]
  },
  {
   "cell_type": "code",
   "execution_count": 67,
   "metadata": {},
   "outputs": [],
   "source": [
    "a = find_generator(p,q)"
   ]
  },
  {
   "cell_type": "code",
   "execution_count": 68,
   "metadata": {},
   "outputs": [],
   "source": [
    "s = int.from_bytes(os.urandom(int(b/8)),byteorder='big')\n",
    "while s > (q-1):\n",
    "    s = int.from_bytes(os.urandom(int(b/8)),byteorder='big')"
   ]
  },
  {
   "cell_type": "code",
   "execution_count": 69,
   "metadata": {},
   "outputs": [],
   "source": [
    "def egcd(a, b):\n",
    "    if a == 0:\n",
    "        return (b, 0, 1)\n",
    "    else:\n",
    "        g, y, x = egcd(b % a, a)\n",
    "        return (g, x - (b // a) * y, y)\n",
    "\n",
    "def modinv(a, m):\n",
    "    g, x, y = egcd(a, m)\n",
    "    if g != 1:\n",
    "        raise Exception('modular inverse does not exist')\n",
    "    else:\n",
    "        return x % m"
   ]
  },
  {
   "cell_type": "code",
   "execution_count": 70,
   "metadata": {},
   "outputs": [],
   "source": [
    "pub = pow(modinv(a,p), s, p)"
   ]
  },
  {
   "cell_type": "code",
   "execution_count": 71,
   "metadata": {},
   "outputs": [
    {
     "name": "stdout",
     "output_type": "stream",
     "text": [
      "2 28 62 227 113 This is our message to be encrypted\n"
     ]
    }
   ],
   "source": [
    "print(a,s,pub,p,q,M)"
   ]
  },
  {
   "cell_type": "code",
   "execution_count": 72,
   "metadata": {},
   "outputs": [],
   "source": [
    "def signature_generation(M,p,q,a,s):\n",
    "    #computing e as part of the signature\n",
    "    r = int.from_bytes(os.urandom(int(b/8)),byteorder='big')\n",
    "    while r > (q-1):\n",
    "        r = int.from_bytes(os.urandom(int(b/8)),byteorder='big')\n",
    "\n",
    "    x = pow(a,r,p)\n",
    "\n",
    "    hash_string = M + str(x)\n",
    "    e = hashlib.sha256(hash_string.encode()).hexdigest()\n",
    "\n",
    "    #computing y as second part of the signature\n",
    "    y = (r % q) + ((s*int(e,16)) % q)\n",
    "\n",
    "    return int(e,16),int(y)"
   ]
  },
  {
   "cell_type": "code",
   "execution_count": 73,
   "metadata": {},
   "outputs": [],
   "source": [
    "(e,y) = signature_generation(M, p, q, a, s)"
   ]
  },
  {
   "cell_type": "code",
   "execution_count": 74,
   "metadata": {},
   "outputs": [],
   "source": [
    "#Now it's Bob's turn to vaidate the signature\n",
    "x_prime = (pow(a,y,p) * pow(pub,e,p)) % p"
   ]
  },
  {
   "cell_type": "code",
   "execution_count": 75,
   "metadata": {},
   "outputs": [],
   "source": [
    "#Confirm that H(M+x_prime) == H(M+x)\n",
    "hash_string = M + str(x_prime)\n",
    "verify = hashlib.sha256(hash_string.encode()).hexdigest()\n",
    "verify = int(verify,16)"
   ]
  },
  {
   "cell_type": "code",
   "execution_count": 76,
   "metadata": {},
   "outputs": [
    {
     "name": "stdout",
     "output_type": "stream",
     "text": [
      "You failed!!\n"
     ]
    }
   ],
   "source": [
    "if verify == e:\n",
    "    print('Success! You verified the signature!')\n",
    "else:\n",
    "    print('You failed!!')"
   ]
  },
  {
   "cell_type": "code",
   "execution_count": 77,
   "metadata": {},
   "outputs": [
    {
     "name": "stdout",
     "output_type": "stream",
     "text": [
      "71899517171913304620439407386378231064091454668255290350757521661573303110216\n"
     ]
    }
   ],
   "source": [
    "print(e)"
   ]
  },
  {
   "cell_type": "code",
   "execution_count": 78,
   "metadata": {},
   "outputs": [
    {
     "name": "stdout",
     "output_type": "stream",
     "text": [
      "17486744044280503742512430007387376158667720948627571794523472456771240040816\n"
     ]
    }
   ],
   "source": [
    "print(verify)"
   ]
  },
  {
   "cell_type": "code",
   "execution_count": null,
   "metadata": {},
   "outputs": [],
   "source": []
  },
  {
   "cell_type": "code",
   "execution_count": null,
   "metadata": {},
   "outputs": [],
   "source": []
  },
  {
   "cell_type": "code",
   "execution_count": null,
   "metadata": {},
   "outputs": [],
   "source": []
  },
  {
   "cell_type": "code",
   "execution_count": null,
   "metadata": {},
   "outputs": [],
   "source": []
  }
 ],
 "metadata": {
  "kernelspec": {
   "display_name": "Python 3",
   "language": "python",
   "name": "python3"
  },
  "language_info": {
   "codemirror_mode": {
    "name": "ipython",
    "version": 3
   },
   "file_extension": ".py",
   "mimetype": "text/x-python",
   "name": "python",
   "nbconvert_exporter": "python",
   "pygments_lexer": "ipython3",
   "version": "3.7.4"
  }
 },
 "nbformat": 4,
 "nbformat_minor": 2
}
