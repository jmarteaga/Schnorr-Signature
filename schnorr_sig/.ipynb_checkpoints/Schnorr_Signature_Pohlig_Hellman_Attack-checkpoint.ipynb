{
 "cells": [
  {
   "cell_type": "code",
   "execution_count": 135,
   "metadata": {},
   "outputs": [],
   "source": [
    "import os\n",
    "import gmpy2\n",
    "import hashlib\n",
    "import sympy\n",
    "from sympy.ntheory.modular import crt"
   ]
  },
  {
   "cell_type": "code",
   "execution_count": 80,
   "metadata": {},
   "outputs": [],
   "source": [
    "#Assumes we are given Message, p, q and secret keys\n",
    "Message = \"slifhwenjfnewnfefwelafafeflmealfm32mflm23pfm3p2mf3m\"\n",
    "p = 776013677466283374829664077979289607703797802248972134730822459666549512547789492942820732883494078514296773729111709915350000261085021001313159067\n",
    "#This is an insecure form for q. It should be p = 2q + 1 but this is for another exercise\n",
    "q = p - 1\n",
    "#a is the generator\n",
    "a = 2\n",
    "bits = 128"
   ]
  },
  {
   "cell_type": "code",
   "execution_count": 81,
   "metadata": {},
   "outputs": [],
   "source": [
    "#This is the private key\n",
    "#not sure why exactly, but the run time is nasty in this version \n",
    "#seems like it's too difficult to find a 512 bit random number smaller than q\n",
    "secret = int.from_bytes(os.urandom(int(bits/8)),byteorder='big')\n",
    "while secret >= (q-1):\n",
    "    secret = int.from_bytes(os.urandom(int(bits/8)),byteorder='big')"
   ]
  },
  {
   "cell_type": "code",
   "execution_count": 82,
   "metadata": {},
   "outputs": [],
   "source": [
    "#This is a^-s mod p for the public key\n",
    "pub = gmpy2.powmod(a, -secret, p)\n"
   ]
  },
  {
   "cell_type": "code",
   "execution_count": 83,
   "metadata": {},
   "outputs": [],
   "source": [
    "def signature_generation(M,p,q,a,s,bits):\n",
    "    #computing e as part of the signature\n",
    "    #r is a random number less than q\n",
    "    r = int.from_bytes(os.urandom(int(bits/8)),byteorder='big')\n",
    "    while r > (q-1):\n",
    "        r = int.from_bytes(os.urandom(int(bits/8)),byteorder='big')\n",
    "\n",
    "    x = pow(a,r,p)\n",
    "\n",
    "    hash_string = M + str(x)\n",
    "    e = hashlib.sha256(hash_string.encode()).hexdigest()\n",
    "\n",
    "    #computing y as second part of the signature\n",
    "    y = (r + s*int(e,16)) % q\n",
    "\n",
    "    return int(e,16),int(y)"
   ]
  },
  {
   "cell_type": "code",
   "execution_count": 84,
   "metadata": {},
   "outputs": [],
   "source": [
    "(e,y) = signature_generation(Message, p, q, a, secret, bits)"
   ]
  },
  {
   "cell_type": "markdown",
   "metadata": {},
   "source": [
    "### Now it's Bob's turn to validate the signature"
   ]
  },
  {
   "cell_type": "code",
   "execution_count": 85,
   "metadata": {},
   "outputs": [],
   "source": [
    "# First calculate x_prime using the public info.\n",
    "x_prime = (gmpy2.powmod(a,y,p) * gmpy2.powmod(pub,e,p)) % p"
   ]
  },
  {
   "cell_type": "code",
   "execution_count": 86,
   "metadata": {},
   "outputs": [],
   "source": [
    "#Convert H(M+x_prime) for verification against H(M+x)\n",
    "hash_string = Message + str(x_prime)\n",
    "verify = hashlib.sha256(hash_string.encode()).hexdigest()\n",
    "verify = int(verify,16)"
   ]
  },
  {
   "cell_type": "code",
   "execution_count": 87,
   "metadata": {},
   "outputs": [
    {
     "name": "stdout",
     "output_type": "stream",
     "text": [
      "Success! You verified the signature!\n"
     ]
    }
   ],
   "source": [
    "if verify == e:\n",
    "    print('Success! You verified the signature!')\n",
    "else:\n",
    "    print('You failed!!')"
   ]
  },
  {
   "cell_type": "markdown",
   "metadata": {},
   "source": [
    "### Now we can see about cracking the discrete log problem with Pohlig-Hellman\n",
    "\n",
    "As a reminder the following is public information:\n",
    "\n",
    "1. a the generator\n",
    "2. pub the public key\n",
    "3. p the prime\n",
    "4. e the hashed and concatenated message\n",
    "5. y the signature\n",
    "6. m the original message\n",
    "\n",
    "This application is insecure because **q = p - 1** which means that we can factor q"
   ]
  },
  {
   "cell_type": "code",
   "execution_count": 88,
   "metadata": {},
   "outputs": [],
   "source": [
    "factor_q = sympy.factorint(q)"
   ]
  },
  {
   "cell_type": "code",
   "execution_count": 89,
   "metadata": {},
   "outputs": [
    {
     "name": "stdout",
     "output_type": "stream",
     "text": [
      "{2: 1, 784242601: 1, 436841551: 1, 977367739: 1, 792164221: 1, 152736893: 1, 44776547: 1, 158061997: 1, 1066198663: 1, 884591369: 1, 629535299: 1, 944703961: 1, 297674633: 1, 147755633: 1, 478406879: 1, 290264287: 1, 487523821: 1, 810215191: 1}\n"
     ]
    }
   ],
   "source": [
    "print(factor_q)"
   ]
  },
  {
   "cell_type": "code",
   "execution_count": 90,
   "metadata": {},
   "outputs": [],
   "source": [
    "#Calculate the Moduli\n",
    "factor_q_list = []\n",
    "for key in factor_q:\n",
    "    factor_q_list.append(key**factor_q[key])"
   ]
  },
  {
   "cell_type": "code",
   "execution_count": 91,
   "metadata": {},
   "outputs": [
    {
     "name": "stdout",
     "output_type": "stream",
     "text": [
      "[2, 784242601, 436841551, 977367739, 792164221, 152736893, 44776547, 158061997, 1066198663, 884591369, 629535299, 944703961, 297674633, 147755633, 478406879, 290264287, 487523821, 810215191]\n"
     ]
    }
   ],
   "source": [
    "print(factor_q_list)"
   ]
  },
  {
   "cell_type": "code",
   "execution_count": 138,
   "metadata": {},
   "outputs": [],
   "source": [
    "#This function needs optimized. It's running too long.\n",
    "#It'll solve, but needs to run for hours. Baby step, giant step would be a more practical approach\n",
    "def find_x(y,g,q,q_factors,p):\n",
    "    residues = []\n",
    "    length = len(q_factors)\n",
    "    for i in range(length):\n",
    "        z = 0\n",
    "        found = False\n",
    "        while not found:\n",
    "            y_1 = gmpy2.powmod(y,q//q_factors[i],p)\n",
    "            g_1 = gmpy2.powmod(g,q//q_factors[i],p)\n",
    "            if y_1 == gmpy2.powmod(g_1,z,p):\n",
    "                found = True\n",
    "                residues.append(z)\n",
    "                print(z)\n",
    "            z += 1\n",
    "            if z == q:\n",
    "                print(\"Failed to find x\")\n",
    "                break\n",
    "    return residues"
   ]
  },
  {
   "cell_type": "code",
   "execution_count": 137,
   "metadata": {},
   "outputs": [
    {
     "name": "stdout",
     "output_type": "stream",
     "text": [
      "194003419366570843707416019494822401925949450562243033682705614916637378136947373235705183220873519628574193432277927478837500065271255250328289766\n"
     ]
    },
    {
     "ename": "KeyboardInterrupt",
     "evalue": "",
     "output_type": "error",
     "traceback": [
      "\u001b[0;31m---------------------------------------------------------------------------\u001b[0m",
      "\u001b[0;31mKeyboardInterrupt\u001b[0m                         Traceback (most recent call last)",
      "\u001b[0;32m<ipython-input-137-4889e7cc0c49>\u001b[0m in \u001b[0;36m<module>\u001b[0;34m\u001b[0m\n\u001b[0;32m----> 1\u001b[0;31m \u001b[0mresidue_list\u001b[0m \u001b[0;34m=\u001b[0m \u001b[0mfind_x\u001b[0m\u001b[0;34m(\u001b[0m\u001b[0mpub\u001b[0m\u001b[0;34m,\u001b[0m\u001b[0ma\u001b[0m\u001b[0;34m,\u001b[0m\u001b[0mp\u001b[0m\u001b[0;34m-\u001b[0m\u001b[0;36m1\u001b[0m\u001b[0;34m,\u001b[0m\u001b[0mfactor_q_list\u001b[0m\u001b[0;34m,\u001b[0m\u001b[0mp\u001b[0m\u001b[0;34m)\u001b[0m\u001b[0;34m\u001b[0m\u001b[0;34m\u001b[0m\u001b[0m\n\u001b[0m",
      "\u001b[0;32m<ipython-input-136-e0fbae0aca81>\u001b[0m in \u001b[0;36mfind_x\u001b[0;34m(y, g, q, q_factors, p)\u001b[0m\n\u001b[1;32m      8\u001b[0m         \u001b[0mfound\u001b[0m \u001b[0;34m=\u001b[0m \u001b[0;32mFalse\u001b[0m\u001b[0;34m\u001b[0m\u001b[0;34m\u001b[0m\u001b[0m\n\u001b[1;32m      9\u001b[0m         \u001b[0;32mwhile\u001b[0m \u001b[0;32mnot\u001b[0m \u001b[0mfound\u001b[0m\u001b[0;34m:\u001b[0m\u001b[0;34m\u001b[0m\u001b[0;34m\u001b[0m\u001b[0m\n\u001b[0;32m---> 10\u001b[0;31m             \u001b[0my_1\u001b[0m \u001b[0;34m=\u001b[0m \u001b[0mgmpy2\u001b[0m\u001b[0;34m.\u001b[0m\u001b[0mpowmod\u001b[0m\u001b[0;34m(\u001b[0m\u001b[0my\u001b[0m\u001b[0;34m,\u001b[0m\u001b[0mq\u001b[0m\u001b[0;34m//\u001b[0m\u001b[0mq_factors\u001b[0m\u001b[0;34m[\u001b[0m\u001b[0mi\u001b[0m\u001b[0;34m]\u001b[0m\u001b[0;34m,\u001b[0m\u001b[0mp\u001b[0m\u001b[0;34m)\u001b[0m\u001b[0;34m\u001b[0m\u001b[0;34m\u001b[0m\u001b[0m\n\u001b[0m\u001b[1;32m     11\u001b[0m             \u001b[0mg_1\u001b[0m \u001b[0;34m=\u001b[0m \u001b[0mgmpy2\u001b[0m\u001b[0;34m.\u001b[0m\u001b[0mpowmod\u001b[0m\u001b[0;34m(\u001b[0m\u001b[0mg\u001b[0m\u001b[0;34m,\u001b[0m\u001b[0mq\u001b[0m\u001b[0;34m//\u001b[0m\u001b[0mq_factors\u001b[0m\u001b[0;34m[\u001b[0m\u001b[0mi\u001b[0m\u001b[0;34m]\u001b[0m\u001b[0;34m,\u001b[0m\u001b[0mp\u001b[0m\u001b[0;34m)\u001b[0m\u001b[0;34m\u001b[0m\u001b[0;34m\u001b[0m\u001b[0m\n\u001b[1;32m     12\u001b[0m             \u001b[0;32mif\u001b[0m \u001b[0my_1\u001b[0m \u001b[0;34m==\u001b[0m \u001b[0mgmpy2\u001b[0m\u001b[0;34m.\u001b[0m\u001b[0mpowmod\u001b[0m\u001b[0;34m(\u001b[0m\u001b[0mg_1\u001b[0m\u001b[0;34m,\u001b[0m\u001b[0mz\u001b[0m\u001b[0;34m,\u001b[0m\u001b[0mp\u001b[0m\u001b[0;34m)\u001b[0m\u001b[0;34m:\u001b[0m\u001b[0;34m\u001b[0m\u001b[0;34m\u001b[0m\u001b[0m\n",
      "\u001b[0;31mKeyboardInterrupt\u001b[0m: "
     ]
    }
   ],
   "source": [
    "residue_list = find_x(pub,a,p-1,factor_q_list,p)"
   ]
  },
  {
   "cell_type": "code",
   "execution_count": null,
   "metadata": {},
   "outputs": [],
   "source": [
    "x_found = sympy.ntheory.modular.crt(factor_q_list,residue_list)"
   ]
  },
  {
   "cell_type": "code",
   "execution_count": null,
   "metadata": {},
   "outputs": [],
   "source": [
    "print(x_found)"
   ]
  }
 ],
 "metadata": {
  "kernelspec": {
   "display_name": "Python 3",
   "language": "python",
   "name": "python3"
  },
  "language_info": {
   "codemirror_mode": {
    "name": "ipython",
    "version": 3
   },
   "file_extension": ".py",
   "mimetype": "text/x-python",
   "name": "python",
   "nbconvert_exporter": "python",
   "pygments_lexer": "ipython3",
   "version": "3.7.4"
  }
 },
 "nbformat": 4,
 "nbformat_minor": 2
}
