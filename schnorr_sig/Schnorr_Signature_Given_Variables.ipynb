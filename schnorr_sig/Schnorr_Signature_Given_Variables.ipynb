{
 "cells": [
  {
   "cell_type": "code",
   "execution_count": 196,
   "metadata": {},
   "outputs": [],
   "source": [
    "import os\n",
    "import gmpy2\n",
    "import hashlib"
   ]
  },
  {
   "cell_type": "code",
   "execution_count": 197,
   "metadata": {},
   "outputs": [],
   "source": [
    "#Assumes we are given Message, p, q and secret keys\n",
    "Message = \"slifhwenjfnewnfefwelafafeflmealfm32mflm23pfm3p2mf3m\"\n",
    "p = 776013677466283374829664077979289607703797802248972134730822459666549512547789492942820732883494078514296773729111709915350000261085021001313159067\n",
    "#This is an insecure form for q. It should be p = 2q + 1 but this is for another exercise\n",
    "q = p - 1\n",
    "#a is the generator\n",
    "a = 2\n",
    "bits = 128"
   ]
  },
  {
   "cell_type": "code",
   "execution_count": 198,
   "metadata": {},
   "outputs": [],
   "source": [
    "#This is the private key\n",
    "#not sure why exactly, but the run time is nasty in this version \n",
    "#seems like it's too difficult to find a 512 bit random number smaller than q\n",
    "secret = int.from_bytes(os.urandom(int(bits/8)),byteorder='big')\n",
    "while secret >= (q-1):\n",
    "    secret = int.from_bytes(os.urandom(int(bits/8)),byteorder='big')"
   ]
  },
  {
   "cell_type": "code",
   "execution_count": 199,
   "metadata": {},
   "outputs": [],
   "source": [
    "#This is a^-s mod p for the public key\n",
    "pub = gmpy2.powmod(a, -secret, p)\n"
   ]
  },
  {
   "cell_type": "code",
   "execution_count": 200,
   "metadata": {},
   "outputs": [],
   "source": [
    "def signature_generation(M,p,q,a,s,bits):\n",
    "    #computing e as part of the signature\n",
    "    #r is a random number less than q\n",
    "    r = int.from_bytes(os.urandom(int(bits/8)),byteorder='big')\n",
    "    while r > (q-1):\n",
    "        r = int.from_bytes(os.urandom(int(bits/8)),byteorder='big')\n",
    "\n",
    "    x = pow(a,r,p)\n",
    "\n",
    "    hash_string = M + str(x)\n",
    "    e = hashlib.sha256(hash_string.encode()).hexdigest()\n",
    "\n",
    "    #computing y as second part of the signature\n",
    "    y = (r + s*int(e,16)) % q\n",
    "\n",
    "    return int(e,16),int(y)"
   ]
  },
  {
   "cell_type": "code",
   "execution_count": 201,
   "metadata": {},
   "outputs": [],
   "source": [
    "(e,y) = signature_generation(Message, p, q, a, secret, bits)"
   ]
  },
  {
   "cell_type": "code",
   "execution_count": 202,
   "metadata": {},
   "outputs": [],
   "source": [
    "#Now it's Bob's turn to vaidate the signature\n",
    "x_prime = (gmpy2.powmod(a,y,p) * gmpy2.powmod(pub,e,p)) % p"
   ]
  },
  {
   "cell_type": "code",
   "execution_count": 203,
   "metadata": {},
   "outputs": [],
   "source": [
    "#Convert H(M+x_prime) for verification against H(M+x)\n",
    "hash_string = Message + str(x_prime)\n",
    "verify = hashlib.sha256(hash_string.encode()).hexdigest()\n",
    "verify = int(verify,16)"
   ]
  },
  {
   "cell_type": "code",
   "execution_count": 204,
   "metadata": {},
   "outputs": [
    {
     "name": "stdout",
     "output_type": "stream",
     "text": [
      "Success! You verified the signature!\n"
     ]
    }
   ],
   "source": [
    "if verify == e:\n",
    "    print('Success! You verified the signature!')\n",
    "else:\n",
    "    print('You failed!!')"
   ]
  },
  {
   "cell_type": "code",
   "execution_count": null,
   "metadata": {},
   "outputs": [],
   "source": []
  }
 ],
 "metadata": {
  "kernelspec": {
   "display_name": "Python 3",
   "language": "python",
   "name": "python3"
  },
  "language_info": {
   "codemirror_mode": {
    "name": "ipython",
    "version": 3
   },
   "file_extension": ".py",
   "mimetype": "text/x-python",
   "name": "python",
   "nbconvert_exporter": "python",
   "pygments_lexer": "ipython3",
   "version": "3.7.4"
  }
 },
 "nbformat": 4,
 "nbformat_minor": 2
}
