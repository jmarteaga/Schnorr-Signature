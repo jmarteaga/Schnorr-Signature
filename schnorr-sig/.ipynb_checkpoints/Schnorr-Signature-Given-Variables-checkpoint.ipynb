{
 "cells": [
  {
   "cell_type": "markdown",
   "metadata": {},
   "source": [
    "# Schnorr Signature with pre-defined p and q\n",
    "## ADD SOME STUFF ABOUT WHY SCHNORR IS GOOD\n",
    "In this example, we were given a *p* value with which to calculate our *q*.  \n",
    "We're also provided a generator *a*.  \n",
    "  \n",
    "The *q* in this example is **not secure** as it is of the form *p - 1* which can easily be factored.  \n",
    "This is used later in the Pohlig-Hellman example.\n",
    "  \n",
    "Typically, *q* should be of the form *(p - 1) / 2* or more commonly written *p = 2q + 1*"
   ]
  },
  {
   "cell_type": "code",
   "execution_count": 14,
   "metadata": {},
   "outputs": [],
   "source": [
    "import os\n",
    "import gmpy2\n",
    "import hashlib"
   ]
  },
  {
   "cell_type": "markdown",
   "metadata": {},
   "source": [
    "### First we define our variables. \n",
    "**Message** is the message which will be signed.  \n",
    "**p** is a prime.  \n",
    "**q** is typically a prime of the form *p = 2q + 1* but in this case was created to be insecure.  \n",
    "**a** is a generator for the prime *p*.  \n",
    "**bits** is used when we generate random numbers."
   ]
  },
  {
   "cell_type": "code",
   "execution_count": 15,
   "metadata": {},
   "outputs": [],
   "source": [
    "Message = \"slifhwenjfnewnfefwelafafeflmealfm32mflm23pfm3p2mf3m\"\n",
    "p = 776013677466283374829664077979289607703797802248972134730822459666549512547789492942820732883494078514296773729111709915350000261085021001313159067\n",
    "q = p - 1\n",
    "a = 2\n",
    "bits = 512"
   ]
  },
  {
   "cell_type": "markdown",
   "metadata": {},
   "source": [
    "**Generate the random secret**  \n",
    "For a Schnorr Signature we'll generate a secret random number. It must be smaller than *q* so we do a quick loop to ensure that is true.  \n",
    "os.urandom is used as this is said to be cryptographically secure.\n",
    "\n",
    "*Note: in this case generating a 512 bit random number and checking that it's smaller than q is taking longer than I'd like, but 512 is secure where smaller wouldn't be recommneded.*"
   ]
  },
  {
   "cell_type": "code",
   "execution_count": 16,
   "metadata": {},
   "outputs": [],
   "source": [
    "secret = int.from_bytes(os.urandom(bits//8),byteorder='big')\n",
    "while secret >= (q-1):\n",
    "    secret = int.from_bytes(os.urandom(bits//8),byteorder='big')"
   ]
  },
  {
   "cell_type": "markdown",
   "metadata": {},
   "source": [
    "**Calculate the public key**  \n",
    "The public key is our generator *a* raised to the negative random secret *s* modulo *p*.  \n",
    "**public-key = a^-s mod p**  \n",
    "pow is built in but doesn't handle a negative exponent. Rather than calculate the multiplicitave inverse I used gmpy2.powmod."
   ]
  },
  {
   "cell_type": "code",
   "execution_count": 17,
   "metadata": {},
   "outputs": [],
   "source": [
    "pub = gmpy2.powmod(a, -secret, p)"
   ]
  },
  {
   "cell_type": "markdown",
   "metadata": {},
   "source": [
    "### Generate the signature  \n",
    "Now that the variables have all been defined we'll generate the signature.  \n",
    "To do this we'll generate another random number *r*.  \n",
    "Once *r* is generated we calculate **a^r mod p** similar to before.  \n",
    "We'll append **a^r mod p** to our message and then hash as *e*.  \n",
    "To complete the signature we calculate **(r + s*e) mod q**"
   ]
  },
  {
   "cell_type": "code",
   "execution_count": 18,
   "metadata": {},
   "outputs": [],
   "source": [
    "def signature_generation(M,p,q,a,s,bits):\n",
    "    #computing e as part of the signature\n",
    "    #r is a random number less than q\n",
    "    r = int.from_bytes(os.urandom(bits//8),byteorder='big')\n",
    "    while r > (q-1):\n",
    "        r = int.from_bytes(os.urandom(bits//8),byteorder='big')\n",
    "\n",
    "    x = pow(a,r,p)\n",
    "\n",
    "    hash_string = M + str(x)\n",
    "    e = hashlib.sha256(hash_string.encode()).hexdigest()\n",
    "\n",
    "    #computing y as second part of the signature\n",
    "    y = (r + s*int(e,16)) % q\n",
    "\n",
    "    return int(e,16),int(y)"
   ]
  },
  {
   "cell_type": "code",
   "execution_count": 19,
   "metadata": {},
   "outputs": [],
   "source": [
    "(e,y) = signature_generation(Message, p, q, a, secret, bits)"
   ]
  },
  {
   "cell_type": "markdown",
   "metadata": {},
   "source": [
    "### Verify the signature  \n",
    "When Alice signs a file she publishes all the below to Bob:  \n",
    "- Message\n",
    "- y, the signed hash\n",
    "- e, the hashed message and appended **a^r mod p**\n",
    "- public key\n",
    "- p\n",
    "- q\n",
    "- a, the generator\n",
    "- the hashing algorithm used\n",
    "\n",
    "Bob then calculates **a^y * public^e (mod p)**  \n",
    "Below we simplify it by calculating **a^y mod p** times **public^e mod p** then taking the result mod p again."
   ]
  },
  {
   "cell_type": "code",
   "execution_count": 20,
   "metadata": {},
   "outputs": [],
   "source": [
    "bob_prime = (gmpy2.powmod(a,y,p) * gmpy2.powmod(pub,e,p)) % p"
   ]
  },
  {
   "cell_type": "markdown",
   "metadata": {},
   "source": [
    "After that calculation the result is appended to the message end and hashed.  \n",
    "If this result matches *e* from Alice then the signature is valid."
   ]
  },
  {
   "cell_type": "code",
   "execution_count": 21,
   "metadata": {},
   "outputs": [],
   "source": [
    "#Convert H(M+x_prime) for verification against H(M+x)\n",
    "hash_string = Message + str(bob_prime)\n",
    "verify = hashlib.sha256(hash_string.encode()).hexdigest()\n",
    "verify = int(verify,16)"
   ]
  },
  {
   "cell_type": "code",
   "execution_count": 22,
   "metadata": {},
   "outputs": [
    {
     "name": "stdout",
     "output_type": "stream",
     "text": [
      "Success! You verified the signature!\n"
     ]
    }
   ],
   "source": [
    "if verify == e:\n",
    "    print('Success! You verified the signature!')\n",
    "else:\n",
    "    print('You failed!!')"
   ]
  },
  {
   "cell_type": "code",
   "execution_count": null,
   "metadata": {},
   "outputs": [],
   "source": []
  }
 ],
 "metadata": {
  "kernelspec": {
   "display_name": "Python 3",
   "language": "python",
   "name": "python3"
  },
  "language_info": {
   "codemirror_mode": {
    "name": "ipython",
    "version": 3
   },
   "file_extension": ".py",
   "mimetype": "text/x-python",
   "name": "python",
   "nbconvert_exporter": "python",
   "pygments_lexer": "ipython3",
   "version": "3.7.4"
  }
 },
 "nbformat": 4,
 "nbformat_minor": 2
}
