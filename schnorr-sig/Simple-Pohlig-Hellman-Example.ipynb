{
 "cells": [
  {
   "cell_type": "code",
   "execution_count": 3,
   "metadata": {},
   "outputs": [],
   "source": [
    "p = 24478527719\n",
    "g = 7\n",
    "y = 8570270614\n",
    "q = p - 1"
   ]
  },
  {
   "cell_type": "code",
   "execution_count": 31,
   "metadata": {},
   "outputs": [],
   "source": [
    "import gmpy2\n",
    "import sympy\n",
    "from sympy.ntheory.modular import crt,solve_congruence"
   ]
  },
  {
   "cell_type": "code",
   "execution_count": 5,
   "metadata": {},
   "outputs": [],
   "source": [
    "factor_q = sympy.factorint(q)"
   ]
  },
  {
   "cell_type": "code",
   "execution_count": 6,
   "metadata": {},
   "outputs": [
    {
     "name": "stdout",
     "output_type": "stream",
     "text": [
      "{2: 1, 42043: 1, 291113: 1}\n"
     ]
    }
   ],
   "source": [
    "print(factor_q)"
   ]
  },
  {
   "cell_type": "code",
   "execution_count": 7,
   "metadata": {},
   "outputs": [],
   "source": [
    "#Calculate the Moduli\n",
    "factor_q_list = []\n",
    "for key in factor_q:\n",
    "    factor_q_list.append(key**factor_q[key])"
   ]
  },
  {
   "cell_type": "code",
   "execution_count": 8,
   "metadata": {},
   "outputs": [
    {
     "name": "stdout",
     "output_type": "stream",
     "text": [
      "[2, 42043, 291113]\n"
     ]
    }
   ],
   "source": [
    "print(factor_q_list)"
   ]
  },
  {
   "cell_type": "code",
   "execution_count": 24,
   "metadata": {},
   "outputs": [],
   "source": [
    "def find_x(y,g,q,q_factors,p):\n",
    "    residues = []\n",
    "    length = len(q_factors)\n",
    "    for i in range(length):\n",
    "        z = 0\n",
    "        found = False\n",
    "        while not found:\n",
    "            y_1 = gmpy2.powmod(y,q//q_factors[i],p)\n",
    "            g_1 = gmpy2.powmod(g,q//q_factors[i],p)\n",
    "            if y_1 == gmpy2.powmod(g_1,z,p):\n",
    "                found = True\n",
    "                residues.append(z)\n",
    "            z += 1\n",
    "    return residues"
   ]
  },
  {
   "cell_type": "code",
   "execution_count": 25,
   "metadata": {},
   "outputs": [],
   "source": [
    "residue_list = find_x(y,g,q,factor_q_list,p)"
   ]
  },
  {
   "cell_type": "code",
   "execution_count": 26,
   "metadata": {},
   "outputs": [
    {
     "name": "stdout",
     "output_type": "stream",
     "text": [
      "[1, 3992, 103749]\n"
     ]
    }
   ],
   "source": [
    "print(residue_list)"
   ]
  },
  {
   "cell_type": "code",
   "execution_count": 34,
   "metadata": {},
   "outputs": [],
   "source": [
    "x_found = sympy.ntheory.modular.crt(factor_q_list,residue_list)"
   ]
  },
  {
   "cell_type": "code",
   "execution_count": 35,
   "metadata": {},
   "outputs": [
    {
     "name": "stdout",
     "output_type": "stream",
     "text": [
      "(mpz(5111465803), 24478527718)\n"
     ]
    }
   ],
   "source": [
    "print(x_found)"
   ]
  },
  {
   "cell_type": "code",
   "execution_count": null,
   "metadata": {},
   "outputs": [],
   "source": []
  }
 ],
 "metadata": {
  "kernelspec": {
   "display_name": "Python 3",
   "language": "python",
   "name": "python3"
  },
  "language_info": {
   "codemirror_mode": {
    "name": "ipython",
    "version": 3
   },
   "file_extension": ".py",
   "mimetype": "text/x-python",
   "name": "python",
   "nbconvert_exporter": "python",
   "pygments_lexer": "ipython3",
   "version": "3.7.4"
  }
 },
 "nbformat": 4,
 "nbformat_minor": 2
}
